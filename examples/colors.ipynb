{
 "cells": [
  {
   "cell_type": "code",
   "execution_count": null,
   "metadata": {},
   "outputs": [],
   "source": [
    "import os\n",
    "import sys; sys.path.append('..')\n",
    "\n",
    "import matplotlib.pyplot as plt\n",
    "\n",
    "from colorization.cielab import DEFAULT_CIELAB\n",
    "from colorization.data.tiny_image_net import TinyImageNet"
   ]
  },
  {
   "cell_type": "markdown",
   "metadata": {},
   "source": [
    "# Constants"
   ]
  },
  {
   "cell_type": "code",
   "execution_count": null,
   "metadata": {},
   "outputs": [],
   "source": [
    "DATA_DIR = '../data'\n",
    "FIGURE_DIR = '../figures'\n",
    "\n",
    "TINY_IMAGE_NET_ROOT = os.path.join(DATA_DIR, 'tiny-image-net')"
   ]
  },
  {
   "cell_type": "markdown",
   "metadata": {},
   "source": [
    "# Display gamut"
   ]
  },
  {
   "cell_type": "code",
   "execution_count": null,
   "metadata": {},
   "outputs": [],
   "source": [
    "DEFAULT_CIELAB.plot_ab_gamut()\n",
    "\n",
    "plt.savefig(os.path.join(FIGURE_DIR, 'ab_gamut.svg'))"
   ]
  },
  {
   "cell_type": "markdown",
   "metadata": {},
   "source": [
    "# Display empirical ab distribution"
   ]
  },
  {
   "cell_type": "code",
   "execution_count": null,
   "metadata": {},
   "outputs": [],
   "source": [
    "dataset = TinyImageNet(root=TINY_IMAGE_NET_ROOT)\n",
    "\n",
    "DEFAULT_CIELAB.plot_empirical_distribution(dataset, verbose=True)\n",
    "\n",
    "plt.savefig(os.path.join(FIGURE_DIR, 'ab_empirical.svg'))"
   ]
  }
 ],
 "metadata": {
  "kernelspec": {
   "display_name": "Python 3",
   "language": "python",
   "name": "python3"
  },
  "language_info": {
   "codemirror_mode": {
    "name": "ipython",
    "version": 3
   },
   "file_extension": ".py",
   "mimetype": "text/x-python",
   "name": "python",
   "nbconvert_exporter": "python",
   "pygments_lexer": "ipython3",
   "version": "3.5.3"
  }
 },
 "nbformat": 4,
 "nbformat_minor": 2
}
