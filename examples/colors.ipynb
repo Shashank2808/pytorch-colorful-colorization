{
 "cells": [
  {
   "cell_type": "code",
   "execution_count": null,
   "metadata": {},
   "outputs": [],
   "source": [
    "import os\n",
    "import sys; sys.path.append('../lib')\n",
    "\n",
    "import matplotlib.pyplot as plt\n",
    "\n",
    "from cielab import ABGamut, CIELAB\n",
    "from image_net import TinyImageNet"
   ]
  },
  {
   "cell_type": "markdown",
   "metadata": {},
   "source": [
    "# Constants"
   ]
  },
  {
   "cell_type": "code",
   "execution_count": null,
   "metadata": {},
   "outputs": [],
   "source": [
    "DATA_DIR = '../data'\n",
    "FIGURE_DIR = '../figures'\n",
    "\n",
    "AB_GAMUT_FILE = os.path.join(DATA_DIR, 'ab-gamut.npy')\n",
    "\n",
    "TINY_IMAGE_NET_ROOT = os.path.join(DATA_DIR, 'tiny-imagenet-200')\n",
    "TINY_IMAGE_NET_CACHE = os.path.join(DATA_DIR, 'tiny-imagenet-200-lab-unlabeled-cache')"
   ]
  },
  {
   "cell_type": "markdown",
   "metadata": {},
   "source": [
    "# Construct CIELAB object"
   ]
  },
  {
   "cell_type": "code",
   "execution_count": null,
   "metadata": {},
   "outputs": [],
   "source": [
    "c = CIELAB(gamut=ABGamut.from_file(AB_GAMUT_FILE))"
   ]
  },
  {
   "cell_type": "markdown",
   "metadata": {},
   "source": [
    "# Construct dataset"
   ]
  },
  {
   "cell_type": "code",
   "execution_count": null,
   "metadata": {},
   "outputs": [],
   "source": [
    "t = TinyImageNet(root=TINY_IMAGE_NET_ROOT, cielab=c)\n",
    "t.set_labeled(False)"
   ]
  },
  {
   "cell_type": "markdown",
   "metadata": {},
   "source": [
    "# Cache dataset"
   ]
  },
  {
   "cell_type": "code",
   "execution_count": null,
   "metadata": {},
   "outputs": [],
   "source": [
    "t.cache(TINY_IMAGE_NET_CACHE)"
   ]
  },
  {
   "cell_type": "markdown",
   "metadata": {},
   "source": [
    "# Re-load dataset"
   ]
  },
  {
   "cell_type": "code",
   "execution_count": null,
   "metadata": {},
   "outputs": [],
   "source": [
    "t = TinyImageNet.restore(TINY_IMAGE_NET_CACHE)"
   ]
  },
  {
   "cell_type": "markdown",
   "metadata": {},
   "source": [
    "# Display gamut"
   ]
  },
  {
   "cell_type": "code",
   "execution_count": null,
   "metadata": {},
   "outputs": [],
   "source": [
    "c.plot_ab_gamut()\n",
    "\n",
    "plt.savefig(os.path.join(FIGURE_DIR, 'ab_gamut.svg'))"
   ]
  },
  {
   "cell_type": "markdown",
   "metadata": {},
   "source": [
    "# Display empirical ab distribution"
   ]
  },
  {
   "cell_type": "code",
   "execution_count": null,
   "metadata": {},
   "outputs": [],
   "source": [
    "c.plot_empirical_distribution(t, verbose=True)\n",
    "\n",
    "plt.savefig(os.path.join(FIGURE_DIR, 'ab_empirical_full.svg'))"
   ]
  }
 ],
 "metadata": {
  "kernelspec": {
   "display_name": "Python 3",
   "language": "python",
   "name": "python3"
  },
  "language_info": {
   "codemirror_mode": {
    "name": "ipython",
    "version": 3
   },
   "file_extension": ".py",
   "mimetype": "text/x-python",
   "name": "python",
   "nbconvert_exporter": "python",
   "pygments_lexer": "ipython3",
   "version": "3.6.8"
  }
 },
 "nbformat": 4,
 "nbformat_minor": 2
}
